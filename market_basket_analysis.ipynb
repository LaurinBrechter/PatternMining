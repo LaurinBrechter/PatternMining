{
 "cells": [
  {
   "cell_type": "code",
   "execution_count": 86,
   "metadata": {},
   "outputs": [],
   "source": [
    "import pandas as pd\n",
    "import numpy as np\n",
    "import seaborn as sns\n",
    "sns.set_style(\"whitegrid\")"
   ]
  },
  {
   "cell_type": "code",
   "execution_count": 87,
   "metadata": {},
   "outputs": [
    {
     "name": "stderr",
     "output_type": "stream",
     "text": [
      "/tmp/ipykernel_30526/3535922104.py:2: DtypeWarning: Columns (0) have mixed types. Specify dtype option on import or set low_memory=False.\n",
      "  data = pd.read_csv('/home/laurinbrechter/Documents/Code/PatternMining/data/kaggle/Assignment-1_Data.csv', delimiter=';')\n"
     ]
    }
   ],
   "source": [
    "# https://www.kaggle.com/datasets/aslanahmedov/market-basket-analysis/data\n",
    "data = pd.read_csv('/home/laurinbrechter/Documents/Code/PatternMining/data/kaggle/Assignment-1_Data.csv', delimiter=';')\n",
    "data['Price'] = data.Price.str.replace(',', '.').astype(float)"
   ]
  },
  {
   "cell_type": "code",
   "execution_count": 88,
   "metadata": {},
   "outputs": [],
   "source": [
    "data['Value'] = data.Quantity * data.Price\n",
    "data = data.loc[data.Value > 0]"
   ]
  },
  {
   "cell_type": "code",
   "execution_count": null,
   "metadata": {},
   "outputs": [],
   "source": [
    "data.groupby('Itemname').Price.std().sort_values(ascending=False).head(10)"
   ]
  },
  {
   "cell_type": "code",
   "execution_count": 42,
   "metadata": {},
   "outputs": [],
   "source": [
    "summary = data.groupby('BillNo').agg(\n",
    "    avg_price=('Price', 'mean'),\n",
    "    num_items=('Itemname', 'count'),\n",
    "    transaction_value=('Value', 'sum')\n",
    ")\n",
    "\n",
    "summary_filtered = summary.loc[(summary.transaction_value > 0) & (summary.transaction_value < 5000)]"
   ]
  },
  {
   "cell_type": "code",
   "execution_count": 43,
   "metadata": {},
   "outputs": [
    {
     "data": {
      "text/plain": [
       "26.56055416389755"
      ]
     },
     "execution_count": 43,
     "metadata": {},
     "output_type": "execute_result"
    }
   ],
   "source": [
    "summary.num_items.mean()"
   ]
  },
  {
   "cell_type": "code",
   "execution_count": 44,
   "metadata": {},
   "outputs": [
    {
     "data": {
      "text/plain": [
       "526.6548220438627"
      ]
     },
     "execution_count": 44,
     "metadata": {},
     "output_type": "execute_result"
    }
   ],
   "source": [
    "summary.transaction_value.mean()"
   ]
  },
  {
   "cell_type": "code",
   "execution_count": 45,
   "metadata": {},
   "outputs": [
    {
     "data": {
      "text/plain": [
       "19561"
      ]
     },
     "execution_count": 45,
     "metadata": {},
     "output_type": "execute_result"
    }
   ],
   "source": [
    "data.BillNo.nunique()\n"
   ]
  },
  {
   "cell_type": "code",
   "execution_count": 46,
   "metadata": {},
   "outputs": [
    {
     "data": {
      "text/plain": [
       "4006"
      ]
     },
     "execution_count": 46,
     "metadata": {},
     "output_type": "execute_result"
    }
   ],
   "source": [
    "data.Itemname.nunique()"
   ]
  },
  {
   "cell_type": "code",
   "execution_count": 47,
   "metadata": {},
   "outputs": [],
   "source": [
    "value_by_item = data.groupby('Itemname').Value.sum().sort_values(ascending=False)"
   ]
  },
  {
   "cell_type": "code",
   "execution_count": null,
   "metadata": {},
   "outputs": [],
   "source": [
    "cum_item_sum = (value_by_item / value_by_item.sum()).cumsum()\n",
    "ax = sns.lineplot(x=range(len(cum_item_sum)), y=cum_item_sum)\n",
    "# lines at 70% and 95%\n",
    "sns.lineplot(x=range(len(cum_item_sum)), y=[0.7]*len(cum_item_sum), color='red', linestyle='--')\n",
    "sns.lineplot(x=range(len(cum_item_sum)), y=[0.95]*len(cum_item_sum), color='red', linestyle='--')\n",
    "\n",
    "ax.set(xlabel='Items', ylabel='Cumulative Value')"
   ]
  },
  {
   "cell_type": "code",
   "execution_count": null,
   "metadata": {},
   "outputs": [],
   "source": [
    "sns.histplot(summary_filtered.transaction_value, bins=100)"
   ]
  },
  {
   "cell_type": "code",
   "execution_count": 137,
   "metadata": {},
   "outputs": [],
   "source": [
    "data['item_id'] = pd.factorize(data.Itemname)[0].astype(str)\n",
    "data[\"Value_Int\"] = data[\"Value\"].astype(int).astype(str)\n",
    "data = data.loc[data.Value_Int != '0']"
   ]
  },
  {
   "cell_type": "code",
   "execution_count": 140,
   "metadata": {},
   "outputs": [],
   "source": [
    "transaction_db = data.groupby('BillNo').agg(\n",
    "    items=('item_id', lambda x: ' '.join(list(x))),\n",
    "    total_value=('Value', lambda x: int(x.sum())),\n",
    "    values=('Value_Int', lambda x: ' '.join(list(x))),\n",
    "    num_items=('item_id', 'count'),\n",
    "    # num_values=('Value_Int', 'count')\n",
    ")\n",
    "transaction_db = transaction_db.loc[transaction_db.num_items < 10].iloc[:1000]"
   ]
  },
  {
   "cell_type": "code",
   "execution_count": 141,
   "metadata": {},
   "outputs": [
    {
     "data": {
      "text/html": [
       "<div>\n",
       "<style scoped>\n",
       "    .dataframe tbody tr th:only-of-type {\n",
       "        vertical-align: middle;\n",
       "    }\n",
       "\n",
       "    .dataframe tbody tr th {\n",
       "        vertical-align: top;\n",
       "    }\n",
       "\n",
       "    .dataframe thead th {\n",
       "        text-align: right;\n",
       "    }\n",
       "</style>\n",
       "<table border=\"1\" class=\"dataframe\">\n",
       "  <thead>\n",
       "    <tr style=\"text-align: right;\">\n",
       "      <th></th>\n",
       "      <th>items</th>\n",
       "      <th>total_value</th>\n",
       "      <th>values</th>\n",
       "      <th>num_items</th>\n",
       "    </tr>\n",
       "    <tr>\n",
       "      <th>BillNo</th>\n",
       "      <th></th>\n",
       "      <th></th>\n",
       "      <th></th>\n",
       "      <th></th>\n",
       "    </tr>\n",
       "  </thead>\n",
       "  <tbody>\n",
       "    <tr>\n",
       "      <th>536365</th>\n",
       "      <td>0 1 2 3 4 5 6</td>\n",
       "      <td>139</td>\n",
       "      <td>15 20 22 20 20 15 25</td>\n",
       "      <td>7</td>\n",
       "    </tr>\n",
       "    <tr>\n",
       "      <th>536366</th>\n",
       "      <td>7 8</td>\n",
       "      <td>22</td>\n",
       "      <td>11 11</td>\n",
       "      <td>2</td>\n",
       "    </tr>\n",
       "    <tr>\n",
       "      <th>536368</th>\n",
       "      <td>21 22 23 24</td>\n",
       "      <td>70</td>\n",
       "      <td>25 14 14 14</td>\n",
       "      <td>4</td>\n",
       "    </tr>\n",
       "    <tr>\n",
       "      <th>536369</th>\n",
       "      <td>25</td>\n",
       "      <td>17</td>\n",
       "      <td>17</td>\n",
       "      <td>1</td>\n",
       "    </tr>\n",
       "    <tr>\n",
       "      <th>536371</th>\n",
       "      <td>46</td>\n",
       "      <td>204</td>\n",
       "      <td>204</td>\n",
       "      <td>1</td>\n",
       "    </tr>\n",
       "    <tr>\n",
       "      <th>...</th>\n",
       "      <td>...</td>\n",
       "      <td>...</td>\n",
       "      <td>...</td>\n",
       "      <td>...</td>\n",
       "    </tr>\n",
       "    <tr>\n",
       "      <th>543016</th>\n",
       "      <td>135</td>\n",
       "      <td>165</td>\n",
       "      <td>165</td>\n",
       "      <td>1</td>\n",
       "    </tr>\n",
       "    <tr>\n",
       "      <th>543017</th>\n",
       "      <td>1055</td>\n",
       "      <td>15</td>\n",
       "      <td>15</td>\n",
       "      <td>1</td>\n",
       "    </tr>\n",
       "    <tr>\n",
       "      <th>543019</th>\n",
       "      <td>516 608</td>\n",
       "      <td>21</td>\n",
       "      <td>12 8</td>\n",
       "      <td>2</td>\n",
       "    </tr>\n",
       "    <tr>\n",
       "      <th>543023</th>\n",
       "      <td>1625 1490 1069 122 123 838 121 58 0</td>\n",
       "      <td>307</td>\n",
       "      <td>81 25 15 19 35 23 35 35 35</td>\n",
       "      <td>9</td>\n",
       "    </tr>\n",
       "    <tr>\n",
       "      <th>543025</th>\n",
       "      <td>70 278 1329 2231 279</td>\n",
       "      <td>68</td>\n",
       "      <td>13 13 13 15 13</td>\n",
       "      <td>5</td>\n",
       "    </tr>\n",
       "  </tbody>\n",
       "</table>\n",
       "<p>1000 rows × 4 columns</p>\n",
       "</div>"
      ],
      "text/plain": [
       "                                      items  total_value  \\\n",
       "BillNo                                                     \n",
       "536365                        0 1 2 3 4 5 6          139   \n",
       "536366                                  7 8           22   \n",
       "536368                          21 22 23 24           70   \n",
       "536369                                   25           17   \n",
       "536371                                   46          204   \n",
       "...                                     ...          ...   \n",
       "543016                                  135          165   \n",
       "543017                                 1055           15   \n",
       "543019                              516 608           21   \n",
       "543023  1625 1490 1069 122 123 838 121 58 0          307   \n",
       "543025                 70 278 1329 2231 279           68   \n",
       "\n",
       "                            values  num_items  \n",
       "BillNo                                         \n",
       "536365        15 20 22 20 20 15 25          7  \n",
       "536366                       11 11          2  \n",
       "536368                 25 14 14 14          4  \n",
       "536369                          17          1  \n",
       "536371                         204          1  \n",
       "...                            ...        ...  \n",
       "543016                         165          1  \n",
       "543017                          15          1  \n",
       "543019                        12 8          2  \n",
       "543023  81 25 15 19 35 23 35 35 35          9  \n",
       "543025              13 13 13 15 13          5  \n",
       "\n",
       "[1000 rows x 4 columns]"
      ]
     },
     "execution_count": 141,
     "metadata": {},
     "output_type": "execute_result"
    }
   ],
   "source": [
    "transaction_db"
   ]
  },
  {
   "cell_type": "code",
   "execution_count": 114,
   "metadata": {},
   "outputs": [],
   "source": [
    "transaction_db.to_csv('tdb.csv', header=False, sep=':', index=False)"
   ]
  },
  {
   "cell_type": "code",
   "execution_count": 115,
   "metadata": {},
   "outputs": [
    {
     "name": "stdout",
     "output_type": "stream",
     "text": [
      "Database size : 1000\n",
      "Number of items : 1274\n",
      "Minimum Transaction Size : 1\n",
      "Average Transaction Size : 4.186\n",
      "Maximum Transaction Size : 9\n",
      "Minimum utility : 1\n",
      "Average utility : 295.1773940345369\n",
      "Maximum utility : 77183\n",
      "Standard Deviation Transaction Size : 2.7432469812249862\n",
      "Variance : 7.532936936936937\n",
      "Sparsity : 0.9967142857142857\n"
     ]
    }
   ],
   "source": [
    "from PAMI.extras.dbStats.utilityDatabaseStats import utilityDatabaseStats \n",
    "obj = utilityDatabaseStats('tdb.csv', sep=' ')\n",
    "obj.run()\n",
    "obj.printStats()"
   ]
  },
  {
   "cell_type": "code",
   "execution_count": 116,
   "metadata": {},
   "outputs": [],
   "source": [
    "import PAMI.highUtilityPattern.basic.EFIM as efim \n",
    "import PAMI.highUtilityFrequentPattern.basic.HUFIM as hufim"
   ]
  },
  {
   "cell_type": "code",
   "execution_count": 117,
   "metadata": {},
   "outputs": [
    {
     "name": "stdout",
     "output_type": "stream",
     "text": [
      "High Utility patterns were generated successfully using EFIM algorithm\n",
      "Total number of High Utility Patterns: 1136\n",
      "Total Memory in USS: 1120870400\n",
      "Total Memory in RSS 1138040832\n",
      "Total ExecutionTime in seconds: 0.12198805809020996\n"
     ]
    }
   ],
   "source": [
    "# obj = hufim.HUFIM('tdb.csv', minUtil=500, sep=' ', minSup=\n",
    "import PAMI.highUtilityPattern.basic.EFIM as efim \n",
    "\n",
    "obj = efim.EFIM('tdb.csv', minUtil=1000, sep=' ') \n",
    "obj.startMine()                       #start the mining process \n",
    "obj.save('out.txt')               #store the patterns in file \n",
    "results = obj.getPatternsAsDataFrame()     #Get the patterns discovered into a dataframe \n",
    "obj.printResults()      "
   ]
  },
  {
   "cell_type": "code",
   "execution_count": 118,
   "metadata": {},
   "outputs": [
    {
     "data": {
      "text/html": [
       "<div>\n",
       "<style scoped>\n",
       "    .dataframe tbody tr th:only-of-type {\n",
       "        vertical-align: middle;\n",
       "    }\n",
       "\n",
       "    .dataframe tbody tr th {\n",
       "        vertical-align: top;\n",
       "    }\n",
       "\n",
       "    .dataframe thead th {\n",
       "        text-align: right;\n",
       "    }\n",
       "</style>\n",
       "<table border=\"1\" class=\"dataframe\">\n",
       "  <thead>\n",
       "    <tr style=\"text-align: right;\">\n",
       "      <th></th>\n",
       "      <th>Patterns</th>\n",
       "      <th>Utility</th>\n",
       "    </tr>\n",
       "  </thead>\n",
       "  <tbody>\n",
       "    <tr>\n",
       "      <th>932</th>\n",
       "      <td>1956 910 1344 1481 196</td>\n",
       "      <td>9931</td>\n",
       "    </tr>\n",
       "    <tr>\n",
       "      <th>936</th>\n",
       "      <td>1956 910 1344 1481 129</td>\n",
       "      <td>9931</td>\n",
       "    </tr>\n",
       "    <tr>\n",
       "      <th>1058</th>\n",
       "      <td>910 1344 1481 196 129</td>\n",
       "      <td>9906</td>\n",
       "    </tr>\n",
       "    <tr>\n",
       "      <th>700</th>\n",
       "      <td>1077 1956 910 1481 120</td>\n",
       "      <td>9896</td>\n",
       "    </tr>\n",
       "    <tr>\n",
       "      <th>635</th>\n",
       "      <td>1077 1956 1431 910 1481 129</td>\n",
       "      <td>9883</td>\n",
       "    </tr>\n",
       "    <tr>\n",
       "      <th>631</th>\n",
       "      <td>1077 1956 1431 910 1481 196</td>\n",
       "      <td>9883</td>\n",
       "    </tr>\n",
       "    <tr>\n",
       "      <th>987</th>\n",
       "      <td>1956 196 129 120</td>\n",
       "      <td>9877</td>\n",
       "    </tr>\n",
       "    <tr>\n",
       "      <th>824</th>\n",
       "      <td>1077 910 1481 129 120</td>\n",
       "      <td>9871</td>\n",
       "    </tr>\n",
       "    <tr>\n",
       "      <th>822</th>\n",
       "      <td>1077 910 1481 196 120</td>\n",
       "      <td>9871</td>\n",
       "    </tr>\n",
       "    <tr>\n",
       "      <th>758</th>\n",
       "      <td>1077 1431 910 1481 196 129</td>\n",
       "      <td>9858</td>\n",
       "    </tr>\n",
       "  </tbody>\n",
       "</table>\n",
       "</div>"
      ],
      "text/plain": [
       "                         Patterns Utility\n",
       "932        1956 910 1344 1481 196    9931\n",
       "936        1956 910 1344 1481 129    9931\n",
       "1058        910 1344 1481 196 129    9906\n",
       "700        1077 1956 910 1481 120    9896\n",
       "635   1077 1956 1431 910 1481 129    9883\n",
       "631   1077 1956 1431 910 1481 196    9883\n",
       "987              1956 196 129 120    9877\n",
       "824         1077 910 1481 129 120    9871\n",
       "822         1077 910 1481 196 120    9871\n",
       "758    1077 1431 910 1481 196 129    9858"
      ]
     },
     "execution_count": 118,
     "metadata": {},
     "output_type": "execute_result"
    }
   ],
   "source": [
    "results.sort_values(by='Utility', ascending=False).head(10)"
   ]
  },
  {
   "cell_type": "code",
   "execution_count": 133,
   "metadata": {},
   "outputs": [],
   "source": [
    "itemnames = pd.factorize(data.Itemname)[1]\n",
    "results['PatternNames'] = results.Patterns.str.split(' ').apply(lambda x: ' + '.join([itemnames[int(i)] for i in x]))"
   ]
  },
  {
   "cell_type": "code",
   "execution_count": 143,
   "metadata": {},
   "outputs": [
    {
     "data": {
      "text/html": [
       "<div>\n",
       "<style scoped>\n",
       "    .dataframe tbody tr th:only-of-type {\n",
       "        vertical-align: middle;\n",
       "    }\n",
       "\n",
       "    .dataframe tbody tr th {\n",
       "        vertical-align: top;\n",
       "    }\n",
       "\n",
       "    .dataframe thead th {\n",
       "        text-align: right;\n",
       "    }\n",
       "</style>\n",
       "<table border=\"1\" class=\"dataframe\">\n",
       "  <thead>\n",
       "    <tr style=\"text-align: right;\">\n",
       "      <th></th>\n",
       "      <th>Patterns</th>\n",
       "      <th>Utility</th>\n",
       "      <th>PatternNames</th>\n",
       "    </tr>\n",
       "  </thead>\n",
       "  <tbody>\n",
       "    <tr>\n",
       "      <th>932</th>\n",
       "      <td>1956 910 1344 1481 196</td>\n",
       "      <td>9931</td>\n",
       "      <td>VINTAGE BEAD PINK PURSE + ANT COPPER RED BOUDICCA BRACELET + BLUE STRIPE CERAMIC DRAWER KNOB + CLASSICAL ROSE CANDLESTAND + ALARM CLOCK BAKELIKE IVORY</td>\n",
       "    </tr>\n",
       "    <tr>\n",
       "      <th>936</th>\n",
       "      <td>1956 910 1344 1481 129</td>\n",
       "      <td>9931</td>\n",
       "      <td>VINTAGE BEAD PINK PURSE + ANT COPPER RED BOUDICCA BRACELET + BLUE STRIPE CERAMIC DRAWER KNOB + CLASSICAL ROSE CANDLESTAND + ENAMEL BREAD BIN CREAM</td>\n",
       "    </tr>\n",
       "    <tr>\n",
       "      <th>1058</th>\n",
       "      <td>910 1344 1481 196 129</td>\n",
       "      <td>9906</td>\n",
       "      <td>ANT COPPER RED BOUDICCA BRACELET + BLUE STRIPE CERAMIC DRAWER KNOB + CLASSICAL ROSE CANDLESTAND + ALARM CLOCK BAKELIKE IVORY + ENAMEL BREAD BIN CREAM</td>\n",
       "    </tr>\n",
       "    <tr>\n",
       "      <th>700</th>\n",
       "      <td>1077 1956 910 1481 120</td>\n",
       "      <td>9896</td>\n",
       "      <td>MIRRORED WALL ART SKULLS + VINTAGE BEAD PINK PURSE + ANT COPPER RED BOUDICCA BRACELET + CLASSICAL ROSE CANDLESTAND + HANGING MEDINA LANTERN SMALL</td>\n",
       "    </tr>\n",
       "    <tr>\n",
       "      <th>635</th>\n",
       "      <td>1077 1956 1431 910 1481 129</td>\n",
       "      <td>9883</td>\n",
       "      <td>MIRRORED WALL ART SKULLS + VINTAGE BEAD PINK PURSE + SKULLS GREETING CARD + ANT COPPER RED BOUDICCA BRACELET + CLASSICAL ROSE CANDLESTAND + ENAMEL BREAD BIN CREAM</td>\n",
       "    </tr>\n",
       "    <tr>\n",
       "      <th>631</th>\n",
       "      <td>1077 1956 1431 910 1481 196</td>\n",
       "      <td>9883</td>\n",
       "      <td>MIRRORED WALL ART SKULLS + VINTAGE BEAD PINK PURSE + SKULLS GREETING CARD + ANT COPPER RED BOUDICCA BRACELET + CLASSICAL ROSE CANDLESTAND + ALARM CLOCK BAKELIKE IVORY</td>\n",
       "    </tr>\n",
       "    <tr>\n",
       "      <th>987</th>\n",
       "      <td>1956 196 129 120</td>\n",
       "      <td>9877</td>\n",
       "      <td>VINTAGE BEAD PINK PURSE + ALARM CLOCK BAKELIKE IVORY + ENAMEL BREAD BIN CREAM + HANGING MEDINA LANTERN SMALL</td>\n",
       "    </tr>\n",
       "    <tr>\n",
       "      <th>824</th>\n",
       "      <td>1077 910 1481 129 120</td>\n",
       "      <td>9871</td>\n",
       "      <td>MIRRORED WALL ART SKULLS + ANT COPPER RED BOUDICCA BRACELET + CLASSICAL ROSE CANDLESTAND + ENAMEL BREAD BIN CREAM + HANGING MEDINA LANTERN SMALL</td>\n",
       "    </tr>\n",
       "    <tr>\n",
       "      <th>822</th>\n",
       "      <td>1077 910 1481 196 120</td>\n",
       "      <td>9871</td>\n",
       "      <td>MIRRORED WALL ART SKULLS + ANT COPPER RED BOUDICCA BRACELET + CLASSICAL ROSE CANDLESTAND + ALARM CLOCK BAKELIKE IVORY + HANGING MEDINA LANTERN SMALL</td>\n",
       "    </tr>\n",
       "    <tr>\n",
       "      <th>758</th>\n",
       "      <td>1077 1431 910 1481 196 129</td>\n",
       "      <td>9858</td>\n",
       "      <td>MIRRORED WALL ART SKULLS + SKULLS GREETING CARD + ANT COPPER RED BOUDICCA BRACELET + CLASSICAL ROSE CANDLESTAND + ALARM CLOCK BAKELIKE IVORY + ENAMEL BREAD BIN CREAM</td>\n",
       "    </tr>\n",
       "  </tbody>\n",
       "</table>\n",
       "</div>"
      ],
      "text/plain": [
       "                         Patterns Utility  \\\n",
       "932        1956 910 1344 1481 196    9931   \n",
       "936        1956 910 1344 1481 129    9931   \n",
       "1058        910 1344 1481 196 129    9906   \n",
       "700        1077 1956 910 1481 120    9896   \n",
       "635   1077 1956 1431 910 1481 129    9883   \n",
       "631   1077 1956 1431 910 1481 196    9883   \n",
       "987              1956 196 129 120    9877   \n",
       "824         1077 910 1481 129 120    9871   \n",
       "822         1077 910 1481 196 120    9871   \n",
       "758    1077 1431 910 1481 196 129    9858   \n",
       "\n",
       "                                                                                                                                                                PatternNames  \n",
       "932                   VINTAGE BEAD PINK PURSE + ANT COPPER RED BOUDICCA BRACELET + BLUE STRIPE CERAMIC DRAWER KNOB + CLASSICAL ROSE CANDLESTAND + ALARM CLOCK BAKELIKE IVORY  \n",
       "936                       VINTAGE BEAD PINK PURSE + ANT COPPER RED BOUDICCA BRACELET + BLUE STRIPE CERAMIC DRAWER KNOB + CLASSICAL ROSE CANDLESTAND + ENAMEL BREAD BIN CREAM  \n",
       "1058                   ANT COPPER RED BOUDICCA BRACELET + BLUE STRIPE CERAMIC DRAWER KNOB + CLASSICAL ROSE CANDLESTAND + ALARM CLOCK BAKELIKE IVORY + ENAMEL BREAD BIN CREAM  \n",
       "700                        MIRRORED WALL ART SKULLS + VINTAGE BEAD PINK PURSE + ANT COPPER RED BOUDICCA BRACELET + CLASSICAL ROSE CANDLESTAND + HANGING MEDINA LANTERN SMALL  \n",
       "635       MIRRORED WALL ART SKULLS + VINTAGE BEAD PINK PURSE + SKULLS GREETING CARD + ANT COPPER RED BOUDICCA BRACELET + CLASSICAL ROSE CANDLESTAND + ENAMEL BREAD BIN CREAM  \n",
       "631   MIRRORED WALL ART SKULLS + VINTAGE BEAD PINK PURSE + SKULLS GREETING CARD + ANT COPPER RED BOUDICCA BRACELET + CLASSICAL ROSE CANDLESTAND + ALARM CLOCK BAKELIKE IVORY  \n",
       "987                                                             VINTAGE BEAD PINK PURSE + ALARM CLOCK BAKELIKE IVORY + ENAMEL BREAD BIN CREAM + HANGING MEDINA LANTERN SMALL  \n",
       "824                         MIRRORED WALL ART SKULLS + ANT COPPER RED BOUDICCA BRACELET + CLASSICAL ROSE CANDLESTAND + ENAMEL BREAD BIN CREAM + HANGING MEDINA LANTERN SMALL  \n",
       "822                     MIRRORED WALL ART SKULLS + ANT COPPER RED BOUDICCA BRACELET + CLASSICAL ROSE CANDLESTAND + ALARM CLOCK BAKELIKE IVORY + HANGING MEDINA LANTERN SMALL  \n",
       "758    MIRRORED WALL ART SKULLS + SKULLS GREETING CARD + ANT COPPER RED BOUDICCA BRACELET + CLASSICAL ROSE CANDLESTAND + ALARM CLOCK BAKELIKE IVORY + ENAMEL BREAD BIN CREAM  "
      ]
     },
     "execution_count": 143,
     "metadata": {},
     "output_type": "execute_result"
    }
   ],
   "source": [
    "pd.set_option('display.max_colwidth', None)\n",
    "results.sort_values(by='Utility', ascending=False).head(10)\n",
    "# display full column"
   ]
  },
  {
   "cell_type": "code",
   "execution_count": null,
   "metadata": {},
   "outputs": [],
   "source": []
  }
 ],
 "metadata": {
  "kernelspec": {
   "display_name": "Python 3",
   "language": "python",
   "name": "python3"
  },
  "language_info": {
   "codemirror_mode": {
    "name": "ipython",
    "version": 3
   },
   "file_extension": ".py",
   "mimetype": "text/x-python",
   "name": "python",
   "nbconvert_exporter": "python",
   "pygments_lexer": "ipython3",
   "version": "3.11.4"
  }
 },
 "nbformat": 4,
 "nbformat_minor": 2
}
